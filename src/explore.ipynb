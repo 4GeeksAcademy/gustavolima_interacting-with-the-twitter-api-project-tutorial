{
    "cells": [
        {
            "attachments": {},
            "cell_type": "markdown",
            "metadata": {},
            "source": [
                "# Explore here"
            ]
        },
        {
            "attachments": {},
            "cell_type": "markdown",
            "metadata": {},
            "source": [
                "#### Import Packages"
            ]
        },
        {
            "cell_type": "code",
            "execution_count": 88,
            "metadata": {},
            "outputs": [],
            "source": [
                "import os\n",
                "from dotenv import load_dotenv\n",
                "import pandas as pd\n",
                "import spotipy"
            ]
        },
        {
            "attachments": {},
            "cell_type": "markdown",
            "metadata": {},
            "source": [
                "#### Connect to Spotify API"
            ]
        },
        {
            "cell_type": "code",
            "execution_count": 89,
            "metadata": {},
            "outputs": [],
            "source": [
                "from spotipy.oauth2 import SpotifyClientCredentials\n",
                "\n",
                "# Load the .env\n",
                "load_dotenv()\n",
                "client_id = os.environ.get('CLIENT_ID')\n",
                "client_secret = os.environ.get('CLIENT_SECRET')\n",
                "\n",
                "# Establish connection to Spotify API\n",
                "sp = spotipy.Spotify(auth_manager=SpotifyClientCredentials(client_id = client_id,\n",
                "                                                              client_secret = client_secret))"
            ]
        },
        {
            "attachments": {},
            "cell_type": "markdown",
            "metadata": {},
            "source": [
                "#### API queries into Spotify\n"
            ]
        },
        {
            "cell_type": "code",
            "execution_count": 73,
            "metadata": {},
            "outputs": [
                {
                    "name": "stdout",
                    "output_type": "stream",
                    "text": [
                        "[{'name': 'Apollo 12 - Original Mix', 'popularity': 11, 'duration_min': 6.02}, {'name': 'Staking Nodes', 'popularity': 6, 'duration_min': 5.07}, {'name': 'Out of Curiosity', 'popularity': 6, 'duration_min': 5.09}, {'name': 'Jysku', 'popularity': 5, 'duration_min': 5.22}, {'name': 'Atlantiq - Original Mix', 'popularity': 5, 'duration_min': 5.62}, {'name': 'Argument', 'popularity': 5, 'duration_min': 5.72}, {'name': 'Carry Pack', 'popularity': 5, 'duration_min': 6.77}, {'name': 'John the Dentist', 'popularity': 4, 'duration_min': 4.96}, {'name': 'Recession is 2 Quarters', 'popularity': 4, 'duration_min': 5.48}, {'name': 'Oxaltoxom', 'popularity': 4, 'duration_min': 6.18}]\n"
                    ]
                }
            ],
            "source": [
                "# Select an Artist\n",
                "artist_id = '4RNK7DL34RKDzb24yksnGJ'\n",
                "\n",
                "# Query and save results to a variable\n",
                "query = sp.artist_top_tracks(artist_id)\n",
                "top_tracks = query['tracks']\n",
                "\n",
                "# Create a list to store the track information\n",
                "track_info = []\n",
                "\n",
                "# Iterate over the top tracks and extract the desired information\n",
                "for track in top_tracks:\n",
                "    track_name = track['name']\n",
                "    track_popularity = track['popularity']\n",
                "    track_duration_ms = track['duration_ms']\n",
                "    track_duration_min = round(track_duration_ms / 60000, 2) \n",
                "    track_info.append({\n",
                "        'name': track_name,\n",
                "        'popularity': track_popularity,\n",
                "        'duration_min': track_duration_min\n",
                "    })\n"
            ]
        },
        {
            "attachments": {},
            "cell_type": "markdown",
            "metadata": {},
            "source": [
                "#### Transform into Dataframe"
            ]
        },
        {
            "cell_type": "code",
            "execution_count": 87,
            "metadata": {},
            "outputs": [
                {
                    "data": {
                        "text/html": [
                            "<div>\n",
                            "<style scoped>\n",
                            "    .dataframe tbody tr th:only-of-type {\n",
                            "        vertical-align: middle;\n",
                            "    }\n",
                            "\n",
                            "    .dataframe tbody tr th {\n",
                            "        vertical-align: top;\n",
                            "    }\n",
                            "\n",
                            "    .dataframe thead th {\n",
                            "        text-align: right;\n",
                            "    }\n",
                            "</style>\n",
                            "<table border=\"1\" class=\"dataframe\">\n",
                            "  <thead>\n",
                            "    <tr style=\"text-align: right;\">\n",
                            "      <th></th>\n",
                            "      <th>name</th>\n",
                            "      <th>popularity</th>\n",
                            "      <th>duration_min</th>\n",
                            "    </tr>\n",
                            "  </thead>\n",
                            "  <tbody>\n",
                            "    <tr>\n",
                            "      <th>7</th>\n",
                            "      <td>John the Dentist</td>\n",
                            "      <td>4</td>\n",
                            "      <td>4.96</td>\n",
                            "    </tr>\n",
                            "    <tr>\n",
                            "      <th>8</th>\n",
                            "      <td>Recession is 2 Quarters</td>\n",
                            "      <td>4</td>\n",
                            "      <td>5.48</td>\n",
                            "    </tr>\n",
                            "    <tr>\n",
                            "      <th>9</th>\n",
                            "      <td>Oxaltoxom</td>\n",
                            "      <td>4</td>\n",
                            "      <td>6.18</td>\n",
                            "    </tr>\n",
                            "  </tbody>\n",
                            "</table>\n",
                            "</div>"
                        ],
                        "text/plain": [
                            "                      name  popularity  duration_min\n",
                            "7         John the Dentist           4          4.96\n",
                            "8  Recession is 2 Quarters           4          5.48\n",
                            "9                Oxaltoxom           4          6.18"
                        ]
                    },
                    "execution_count": 87,
                    "metadata": {},
                    "output_type": "execute_result"
                }
            ],
            "source": [
                "# Convert the tracks_info Dict to a DF\n",
                "tracksdf = pd.DataFrame.from_records(track_info)\n",
                "\n",
                "# Sort by Popularity\n",
                "tracksdf.sort_values(['popularity'], inplace=True)\n",
                "\n",
                "# Print the top 3\n",
                "tracksdf.head(3)"
            ]
        },
        {
            "attachments": {},
            "cell_type": "markdown",
            "metadata": {},
            "source": [
                "#### Plot a graphic\n"
            ]
        },
        {
            "cell_type": "code",
            "execution_count": 75,
            "metadata": {},
            "outputs": [
                {
                    "data": {
                        "image/png": "[encoded data removed]",
                        "text/plain": [
                            "<Figure size 640x480 with 1 Axes>"
                        ]
                    },
                    "metadata": {},
                    "output_type": "display_data"
                }
            ],
            "source": [
                "import seaborn as sns\n",
                "import matplotlib.pyplot as plt\n",
                "\n",
                "# Create a scatter plot using seaborn\n",
                "sns.scatterplot(data=tracksdf, x='duration_min', y='popularity')\n",
                "\n",
                "# Set the plot labels and title\n",
                "plt.xlabel('Duration (minutes)')\n",
                "plt.ylabel('Popularity')\n",
                "plt.title('Duration vs. Popularity of Songs')\n",
                "\n",
                "# Display the plot\n",
                "plt.show()\n"
            ]
        },
        {
            "attachments": {},
            "cell_type": "markdown",
            "metadata": {},
            "source": [
                "## Relationship"
            ]
        },
        {
            "attachments": {},
            "cell_type": "markdown",
            "metadata": {},
            "source": [
                "As we can see with the scatterplot, there's no direct relationship. We can't say by looking at an artist top 10, that his shorter tracks are more popular. In such little data (10 tracks) we have a longer one who's way more popular for example. "
            ]
        }
    ],
    "metadata": {
        "kernelspec": {
            "display_name": "Python 3.8.13 64-bit ('3.8.13')",
            "language": "python",
            "name": "python3"
        },
        "language_info": {
            "codemirror_mode": {
                "name": "ipython",
                "version": 3
            },
            "file_extension": ".py",
            "mimetype": "text/x-python",
            "name": "python",
            "nbconvert_exporter": "python",
            "pygments_lexer": "ipython3",
            "version": "3.10.8"
        },
        "orig_nbformat": 4,
        "vscode": {
            "interpreter": {
                "hash": "110cc1dee26208153f2972f08a2ad52b6a56238dc66d48e87fb757ef2996db56"
            }
        }
    },
    "nbformat": 4,
    "nbformat_minor": 2
}
